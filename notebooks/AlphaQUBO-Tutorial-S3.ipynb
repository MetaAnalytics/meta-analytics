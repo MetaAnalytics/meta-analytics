{
 "cells": [
  {
   "cell_type": "markdown",
   "metadata": {},
   "source": [
    "# AlphaQUBO Tutoral - S3 Compressed Sampler"
   ]
  },
  {
   "cell_type": "markdown",
   "metadata": {},
   "source": [
    "This tutorial shows how to read an AlphaQUBO formatted file, process it as a D-Wave BinaryQuadraticModel, and submit to an AlphaQUBO solver.\n",
    "\n",
    "The AlphaQUBO file format is a text file with information on the first line that describes the size of the q(i,j) matrix.\n",
    "\n",
    "1. Program line is marked by a “**p**” in the first column. A single program line must be the first line in the file. The program line has two arguments: **variable_count** and **non_zero_element_count**\n",
    "\n",
    "```\n",
    "    p 50 225\n",
    "```\n",
    "\n",
    "2. The remaining lines are made up of three numbers, separated by one or more blanks. The first two numbers, ($i$ and $j$), are the indices for this Q matrix entry, where ($i <= j$). Each index must be in the range {1, **variable_count**}. The third number is the value of the Q matrix at $Q(i,j)$, specified as an integer or floating point value\n",
    "\n",
    "#### Example\n",
    "```\n",
    " p  100  475\n",
    " 1  35  -19\n",
    " 1  44  -22\n",
    " 1  47  27\n",
    " 1  49  -66\n",
    " 1  58  -69\n",
    " 1  64  63\n",
    " 1  72  -89\n",
    " 1  73  -19\n",
    " 1  74  -69\n",
    " 1  76  -12\n",
    " 1  84  40\n",
    " 1  98  33\n",
    " 2  2  52\n",
    "```\n"
   ]
  },
  {
   "cell_type": "code",
   "execution_count": 1,
   "metadata": {},
   "outputs": [],
   "source": [
    "import sys\n",
    "import alphaqubo_client as aq\n",
    "from alphaqubo_client.rest import ApiException\n",
    "import dimod\n",
    "import boto3\n",
    "from botocore.exceptions import ClientError\n",
    "import gzip"
   ]
  },
  {
   "cell_type": "markdown",
   "metadata": {},
   "source": [
    "## Read AlphaQUBO formatted file as BinaryQuadraticModel"
   ]
  },
  {
   "cell_type": "code",
   "execution_count": 2,
   "metadata": {},
   "outputs": [],
   "source": [
    "def read_alphaqubo_bqm(filename:str):\n",
    "    lines = []\n",
    "    with open(filename, \"rt\") as myfile:\n",
    "        for line in myfile:\n",
    "            lines.append(line.rstrip('\\n'))\n",
    "    Q = {}\n",
    "    for line in lines:\n",
    "        p = line.split()\n",
    "        if len(p) > 0:\n",
    "            if p[0] == 'c':\n",
    "                continue\n",
    "            elif p[0] == 'p':\n",
    "                nVars = int(p[1])\n",
    "            else:\n",
    "                if len(p) == 3:\n",
    "                    i = int(p[0]) - 1\n",
    "                    j = int(p[1]) - 1\n",
    "                    w = float(p[2])\n",
    "                    if i != j:\n",
    "                        w *= 2\n",
    "                    Q[(i, j)] = w\n",
    "\n",
    "    bqm = dimod.BinaryQuadraticModel.from_qubo(Q)\n",
    "    return bqm"
   ]
  },
  {
   "cell_type": "markdown",
   "metadata": {},
   "source": [
    "## Configure AlphaQUBO API\n",
    "Configure the connection details to connect to AlphaQUBO SolverAPI"
   ]
  },
  {
   "cell_type": "code",
   "execution_count": 3,
   "metadata": {},
   "outputs": [],
   "source": [
    "configuration = aq.Configuration()\n",
    "configuration.debug = False\n",
    "configuration.host = \"http://ec2-54-201-35-39.us-west-2.compute.amazonaws.com:9000\"\n",
    "\n",
    "api_instance = aq.QuboApi(aq.ApiClient(configuration))"
   ]
  },
  {
   "cell_type": "markdown",
   "metadata": {},
   "source": [
    "### Read AlphaQUBO Formatted File\n"
   ]
  },
  {
   "cell_type": "code",
   "execution_count": 4,
   "metadata": {
    "scrolled": false,
    "tags": []
   },
   "outputs": [
    {
     "name": "stdout",
     "output_type": "stream",
     "text": [
      "Size of BQM:  2500\n"
     ]
    }
   ],
   "source": [
    "# BUCKET_NAME = 'qubotests'\n",
    "# FILENAME = 'bqp2500_1.gz'\n",
    "\n",
    "bqm = read_alphaqubo_bqm('../data/bqp2500_1.txt')\n",
    "print(\"Size of BQM: \", len(bqm))\n"
   ]
  },
  {
   "cell_type": "markdown",
   "metadata": {},
   "source": [
    "### AlphaQUBO S3 dimod Sampler"
   ]
  },
  {
   "cell_type": "code",
   "execution_count": 5,
   "metadata": {},
   "outputs": [],
   "source": [
    "from dimod.core.sampler import Sampler\n",
    "from dimod.sampleset import SampleSet\n",
    "import json\n",
    "\n",
    "class AlphaQuboS3Sampler():\n",
    "\n",
    "    properties = None\n",
    "    parameters = None\n",
    "    api_instance = None\n",
    "    bucket_name = 'alphaqubo'\n",
    "    name = None\n",
    "    region = 'us-west-2'\n",
    "\n",
    "    def __init__(self, api_instance, region, bucket_name, name):\n",
    "        self.properties = {}\n",
    "        self.parameters = {'time_limit': [],\n",
    "                           'accuracy_min': [],\n",
    "                           'greediness': [],\n",
    "                           'maximize': [] }\n",
    "        self.api_instance = api_instance\n",
    "        self.bucket_name = bucket_name\n",
    "        self.name = name\n",
    "\n",
    "    def sample(self, bqm, time_limit=60, accuracy_min=5, greediness=0.0, maximize=False):\n",
    "        n = len(bqm.variables)  \n",
    "        filename = self.name + '.gz'\n",
    "        body = aq.SolverAsyncRequest()\n",
    "        body.num_vars = n\n",
    "        body.region = self.region\n",
    "        body.bucket_name = self.bucket_name\n",
    "        body.key_name = filename\n",
    "        body.solution_bucket_name = self.bucket_name\n",
    "        body.solution_key_name = self.name + '.sol'\n",
    "        \n",
    "        if maximize:\n",
    "            body.min_max = 1\n",
    "        else:\n",
    "            body.min_max = 0\n",
    "        body.timeout = time_limit\n",
    "        \n",
    "        body.parameters = \"-am \" + str(accuracy_min)\n",
    "        if greediness > 0.0:\n",
    "            body.parameters = body.parameters + '-g ' + str(greediness)\n",
    "\n",
    "        self.save_alphaqubo_gzip(filename, bqm)\n",
    "        self.upload_file( filename, self.bucket_name, object_name=filename )\n",
    "            \n",
    "        try:\n",
    "            # solve it asynchronously.\n",
    "            api_response = api_instance.api_qubo_solve_qubo_async_using_s3_post(body=body)           \n",
    "        except ApiException as e:\n",
    "            print(\"Exception when calling QuboApi->api_qubo_solve_qubo_async_using_s3_post: %s\\n\" % e)\n",
    "        \n",
    "        return api_response\n",
    "        \n",
    "    def job_results(self):\n",
    "        solfile = self.name + '.sol'\n",
    "        self.download_file(self.bucket_name, solfile)\n",
    "        with open(solfile) as f:\n",
    "            data = json.load(f)\n",
    "        \n",
    "        samples = []\n",
    "        energies = []\n",
    "        samples.append( data['solvedResult'] )\n",
    "        energies.append( data['solvedValue'] )\n",
    "              \n",
    "        response = SampleSet.from_samples(samples, bqm.vartype, energy=energies)\n",
    "        return response\n",
    "        \n",
    "    \n",
    "    def save_alphaqubo_gzip(self, filename:str, bqm):\n",
    "        with gzip.open( filename, \"wt\" ) as fl:\n",
    "            variables = sorted(bqm.iter_variables())  # integer labeled so we can sort in py3\n",
    "            # l = dict(filter(lambda x: x != 0, bqm.linear.items()))  # filter out zero linear terms\n",
    "            nonzero = 0\n",
    "            for idx, u in enumerate(variables):\n",
    "                for v in variables[idx:]:\n",
    "                    if u == v and bqm.linear[u]:\n",
    "                        nonzero += 1\n",
    "                    if u in bqm.adj[v]:\n",
    "                        nonzero += 1\n",
    "            \n",
    "            print(\"p\", bqm.num_variables,  nonzero, file=fl)\n",
    "            for idx, u in enumerate(variables):\n",
    "                for v in variables[idx:]:\n",
    "                    if u == v and bqm.linear[u]:\n",
    "                        print(u+1, u+1, bqm.linear[u], file=fl)\n",
    "                    if u in bqm.adj[v]:\n",
    "                        print( u+1, v+1, bqm.adj[u][v]/2, file=fl)\n",
    "\n",
    "    def upload_file(self, file_name, bucket, object_name=None):\n",
    "        \"\"\"Upload a file to an S3 bucket\n",
    "\n",
    "        :param file_name: File to upload\n",
    "        :param bucket: Bucket to upload to\n",
    "        :param object_name: S3 object name. If not specified then file_name is used\n",
    "        :return: True if file was uploaded, else False\n",
    "        \"\"\"\n",
    "\n",
    "        # If S3 object_name was not specified, use file_name\n",
    "        if object_name is None:\n",
    "            object_name = file_name\n",
    "\n",
    "        # Upload the file\n",
    "        s3_client = boto3.client('s3')\n",
    "        try:\n",
    "            response = s3_client.upload_file(file_name, bucket, object_name, ExtraArgs={'ContentType': 'application/x-gzip'})\n",
    "        except ClientError as e:\n",
    "            print(e)\n",
    "            return False\n",
    "        return True\n",
    "    \n",
    "    def download_file(self, bucket, file_name):\n",
    "        s3 = boto3.client('s3')\n",
    "        s3.download_file(bucket, file_name, file_name)"
   ]
  },
  {
   "cell_type": "markdown",
   "metadata": {},
   "source": [
    "### Solve using AlphaQUBO"
   ]
  },
  {
   "cell_type": "code",
   "execution_count": 6,
   "metadata": {
    "scrolled": false,
    "tags": []
   },
   "outputs": [
    {
     "name": "stdout",
     "output_type": "stream",
     "text": [
      "{'bucket_name': 'alphaqubo-test',\n",
      " 'qubo_accepted': True,\n",
      " 'qubo_key_name': 'qtest.gz',\n",
      " 'region': 'us-west-2',\n",
      " 'solution_bucket_name': 'alphaqubo-test',\n",
      " 'solution_httpurl': 'https://s3.us-west-2.amazonaws.com/alphaqubo-test/qtest.sol',\n",
      " 'solution_key_name': 'qtest.sol',\n",
      " 'solution_s3_uri': 's3://alphaqubo-test/qtest.sol'}\n"
     ]
    }
   ],
   "source": [
    "sampler = AlphaQuboS3Sampler(api_instance, 'us-west-2', 'alphaqubo-test', 'qtest')\n",
    "response = sampler.sample(bqm, maximize=True, time_limit=15)\n",
    "print(response)\n",
    "import time\n",
    "time.sleep(15+10)"
   ]
  },
  {
   "cell_type": "code",
   "execution_count": 7,
   "metadata": {},
   "outputs": [
    {
     "name": "stdout",
     "output_type": "stream",
     "text": [
      "   0  1  2  3  4  5  6  7  8  9 10 11 12 13 14 15 16 ... 2499  energy num_oc.\n",
      "0  1  1  1  1  1  1  1  1  1  1  0  0  0  0  0  0  0 ...    1 1515723       1\n",
      "['BINARY', 1 rows, 1 samples, 2500 variables]\n"
     ]
    }
   ],
   "source": [
    "sampler = AlphaQuboS3Sampler(api_instance, 'us-west-2', 'alphaqubo-test', 'qtest')\n",
    "results = sampler.job_results()\n",
    "print(results)"
   ]
  },
  {
   "cell_type": "code",
   "execution_count": null,
   "metadata": {},
   "outputs": [],
   "source": []
  }
 ],
 "metadata": {
  "kernelspec": {
   "display_name": "Python 3",
   "language": "python",
   "name": "python3"
  },
  "language_info": {
   "codemirror_mode": {
    "name": "ipython",
    "version": 3
   },
   "file_extension": ".py",
   "mimetype": "text/x-python",
   "name": "python",
   "nbconvert_exporter": "python",
   "pygments_lexer": "ipython3",
   "version": "3.7.7"
  },
  "widgets": {
   "application/vnd.jupyter.widget-state+json": {
    "state": {},
    "version_major": 2,
    "version_minor": 0
   }
  }
 },
 "nbformat": 4,
 "nbformat_minor": 4
}
