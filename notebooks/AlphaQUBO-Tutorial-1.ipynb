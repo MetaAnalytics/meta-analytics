{
 "cells": [
  {
   "cell_type": "markdown",
   "metadata": {},
   "source": [
    "# AlphaQUBO Tutoral"
   ]
  },
  {
   "cell_type": "markdown",
   "metadata": {},
   "source": [
    "This tutorial shows how to read an AlphaQUBO formatted file, process it as a D-Wave BinaryQuadraticModel, and submit to an AlphaQUBO solver.\n",
    "\n",
    "The AlphaQUBO file format is a text file with information on the first line that describes the size of the q(i,j) matrix.\n",
    "\n",
    "1. Program line is marked by a “**p**” in the first column. A single program line must be the first line in the file. The program line has two arguments: **variable_count** and **non_zero_element_count**\n",
    "\n",
    "```\n",
    "    p 50 225\n",
    "```\n",
    "\n",
    "2. The remaining lines are made up of three numbers, separated by one or more blanks. The first two numbers, ($i$ and $j$), are the indices for this Q matrix entry, where ($i <= j$). Each index must be in the range {1, **variable_count**}. The third number is the value of the Q matrix at $Q(i,j)$, specified as an integer or floating point value\n",
    "\n",
    "#### Example\n",
    "```\n",
    " p  100  475\n",
    " 1  35  -19\n",
    " 1  44  -22\n",
    " 1  47  27\n",
    " 1  49  -66\n",
    " 1  58  -69\n",
    " 1  64  63\n",
    " 1  72  -89\n",
    " 1  73  -19\n",
    " 1  74  -69\n",
    " 1  76  -12\n",
    " 1  84  40\n",
    " 1  98  33\n",
    " 2  2  52\n",
    "```\n"
   ]
  },
  {
   "cell_type": "code",
   "execution_count": 1,
   "metadata": {},
   "outputs": [],
   "source": [
    "import sys\n",
    "import alphaqubo_client as aq\n",
    "from alphaqubo_client.rest import ApiException\n",
    "import dimod\n",
    "import neal\n",
    "from dwave_qbsolv import QBSolv"
   ]
  },
  {
   "cell_type": "markdown",
   "metadata": {},
   "source": [
    "## Read AlphaQUBO formatted file as BinaryQuadraticModel"
   ]
  },
  {
   "cell_type": "code",
   "execution_count": 2,
   "metadata": {},
   "outputs": [],
   "source": [
    "def read_alphaqubo_bqm(filename:str):\n",
    "    lines = []\n",
    "    with open(filename, \"rt\") as myfile:\n",
    "        for line in myfile:\n",
    "            lines.append(line.rstrip('\\n'))\n",
    "    Q = {}\n",
    "    for line in lines:\n",
    "        p = line.split()\n",
    "        if len(p) > 0:\n",
    "            if p[0] == 'c':\n",
    "                continue\n",
    "            elif p[0] == 'p':\n",
    "                nVars = int(p[1])\n",
    "            else:\n",
    "                if len(p) == 3:\n",
    "                    i = int(p[0]) - 1\n",
    "                    j = int(p[1]) - 1\n",
    "                    w = float(p[2])\n",
    "                    if i != j:\n",
    "                        w *= 2\n",
    "                    Q[(i, j)] = w\n",
    "\n",
    "    bqm = dimod.BinaryQuadraticModel.from_qubo(Q)\n",
    "    return bqm"
   ]
  },
  {
   "cell_type": "markdown",
   "metadata": {},
   "source": [
    "## Configure AlphaQUBO API\n",
    "Configure the connection details to connect to AlphaQUBO SolverAPI"
   ]
  },
  {
   "cell_type": "code",
   "execution_count": 3,
   "metadata": {},
   "outputs": [],
   "source": [
    "configuration = aq.Configuration()\n",
    "configuration.debug = False\n",
    "configuration.host = \"http://ec2-54-201-35-39.us-west-2.compute.amazonaws.com:9000\"\n",
    "\n",
    "api_instance = aq.QuboApi(aq.ApiClient(configuration))"
   ]
  },
  {
   "cell_type": "markdown",
   "metadata": {},
   "source": [
    "### Read AlphaQUBO Formatted File\n"
   ]
  },
  {
   "cell_type": "code",
   "execution_count": 4,
   "metadata": {
    "scrolled": true,
    "tags": []
   },
   "outputs": [
    {
     "name": "stdout",
     "output_type": "stream",
     "text": [
      "Size of BQM:  2500\n"
     ]
    }
   ],
   "source": [
    "bqm = read_alphaqubo_bqm('../data/bqp2500_1.txt')\n",
    "print(\"Size of BQM: \", len(bqm))"
   ]
  },
  {
   "cell_type": "markdown",
   "metadata": {},
   "source": [
    "### AlphaQUBO dimod Sampler"
   ]
  },
  {
   "cell_type": "code",
   "execution_count": 5,
   "metadata": {},
   "outputs": [],
   "source": [
    "from dimod.core.sampler import Sampler\n",
    "from dimod.sampleset import SampleSet\n",
    "\n",
    "class AlphaQuboSampler(Sampler):\n",
    "\n",
    "    properties = None\n",
    "    parameters = None\n",
    "\n",
    "    def __init__(self):\n",
    "        self.properties = {}\n",
    "        self.parameters = {'time_limit': [],\n",
    "                           'accuracy_min': [],\n",
    "                           'greediness': [],\n",
    "                           'maximize': [] }\n",
    "\n",
    "    def sample(self, bqm, api_instance, time_limit=60, accuracy_min=5, greediness=0.0, maximize=False):\n",
    "        n = len(bqm.variables)\n",
    "        if n == 0:\n",
    "            return SampleSet.from_samples([], bqm.vartype, energy=[])\n",
    "\n",
    "        body = aq.SolverAPI()\n",
    "        body.num_vars = n\n",
    "        if maximize:\n",
    "            body.min_max = 1\n",
    "        else:\n",
    "            body.min_max = 0\n",
    "        body.timeout = time_limit\n",
    "        body.inputs = []\n",
    "        variables = sorted(bqm.iter_variables())      \n",
    "        for idx, u in enumerate(variables):\n",
    "            for v in variables[idx:]:\n",
    "                if u == v and bqm.linear[u]:\n",
    "                    body.inputs.append(aq.Points(x=u + 1, y=u + 1, z=bqm.linear[u]))\n",
    "        for idx, u in enumerate(variables):\n",
    "            for v in variables[idx:]:\n",
    "                if u in bqm.adj[v]:                \n",
    "                    body.inputs.append(aq.Points(x=u + 1, y=v + 1, z=bqm.adj[u][v] / 2))\n",
    "        body.non_zero = len(body.inputs)        \n",
    "        body.parameters = \"-am \" + str(accuracy_min)\n",
    "\n",
    "        try:\n",
    "            # Use the inputs to define a QUBO and solve it synchronously.\n",
    "            api_response = api_instance.api_qubo_solve_qubo_post(body=body)           \n",
    "        except ApiException as e:\n",
    "            print(\"Exception when calling QuboApi->api_qubo_solve_qubo_post: %s\\n\" % e)\n",
    "        \n",
    "        samples = []\n",
    "        energies = []\n",
    "        samples.append( api_response.solved_result )\n",
    "        energies.append( api_response.solved_value )\n",
    "              \n",
    "        response = SampleSet.from_samples(samples, bqm.vartype, energy=energies)\n",
    "        return response\n"
   ]
  },
  {
   "cell_type": "markdown",
   "metadata": {},
   "source": [
    "### Solve using AlphaQUBO"
   ]
  },
  {
   "cell_type": "code",
   "execution_count": 6,
   "metadata": {
    "scrolled": false,
    "tags": []
   },
   "outputs": [
    {
     "name": "stdout",
     "output_type": "stream",
     "text": [
      "Wall time: 30.6 s\n",
      "   0  1  2  3  4  5  6  7  8  9 10 11 12 13 14 15 16 ... 2499    energy num_oc.\n",
      "0  1  1  1  1  1  1  1  1  1  1  0  0  0  0  0  0  0 ...    1 1515888.0       1\n",
      "['BINARY', 1 rows, 1 samples, 2500 variables]\n"
     ]
    }
   ],
   "source": [
    "# %time response = solve_aq_bqm(api_instance, bqm, timeout=60, maximize=False, params='-g 0 -am 5')\n",
    "%time response = AlphaQuboSampler().sample(bqm, api_instance, maximize=True, time_limit=15)\n",
    "print(response)\n",
    "#%time samples = QBSolv().sample(bqm, find_max=False)\n",
    "#bqm.scale(-1);\n",
    "#samples = neal.SimulatedAnnealingSampler().sample(bqm)\n",
    "#samples = dimod.ExactSolver().sample(bqm)\n",
    "#print(samples)"
   ]
  },
  {
   "cell_type": "code",
   "execution_count": null,
   "metadata": {},
   "outputs": [],
   "source": []
  }
 ],
 "metadata": {
  "kernelspec": {
   "display_name": "Python 3",
   "language": "python",
   "name": "python3"
  },
  "language_info": {
   "codemirror_mode": {
    "name": "ipython",
    "version": 3
   },
   "file_extension": ".py",
   "mimetype": "text/x-python",
   "name": "python",
   "nbconvert_exporter": "python",
   "pygments_lexer": "ipython3",
   "version": "3.7.7"
  },
  "widgets": {
   "application/vnd.jupyter.widget-state+json": {
    "state": {},
    "version_major": 2,
    "version_minor": 0
   }
  }
 },
 "nbformat": 4,
 "nbformat_minor": 4
}
